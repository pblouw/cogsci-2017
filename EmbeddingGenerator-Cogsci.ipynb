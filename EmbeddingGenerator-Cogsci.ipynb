{
 "cells": [
  {
   "cell_type": "markdown",
   "metadata": {},
   "source": [
    "# Generating Sentences with TreeRNNs\n",
    "\n",
    "This notebook goes through a minimal example of encoding one sentence into a distributed representation using a TreeRNN, and the using this distributed representation to generate another sentence using a different TreeRNN in reverse. To start, we'll do some data cleaning to make sure we have a good set of sentence pairs to train on. The main goal here is to remove sentences with mispelled words and oddities."
   ]
  },
  {
   "cell_type": "code",
   "execution_count": 1,
   "metadata": {
    "collapsed": false
   },
   "outputs": [],
   "source": [
    "import enchant \n",
    "import random\n",
    "import pickle\n",
    "import numpy as np\n",
    "\n",
    "from collections import namedtuple\n",
    "from pysem.corpora import SNLI\n",
    "from pysem.networks import DependencyNetwork\n",
    "from pysem.generatives import EmbeddingGenerator\n",
    "\n",
    "checker = enchant.Dict('en_US')\n",
    "TrainingPair = namedtuple('TrainingPair', ['sentence1', 'sentence2', 'label'])\n",
    "\n",
    "snli = SNLI('/home/pblouw/snli_1.0/')\n",
    "snli.load_xy_pairs()\n",
    "\n",
    "def repair(sen):\n",
    "    tokens = DependencyNetwork.parser(sen)\n",
    "    if len(tokens) > 15:\n",
    "        return None\n",
    "    for token in tokens:\n",
    "        if not checker.check(token.text):\n",
    "            return None\n",
    "    return sen\n",
    "\n",
    "def clean_data(data):\n",
    "    clean = []\n",
    "    for item in data:\n",
    "        \n",
    "        s1 = repair(item.sentence1)\n",
    "        s2 = repair(item.sentence2)\n",
    "        if s1 == None or s2 == None:\n",
    "            continue\n",
    "        else:\n",
    "            clean.append(TrainingPair(s1, s2, item.label))\n",
    "    \n",
    "    return clean"
   ]
  },
  {
   "cell_type": "code",
   "execution_count": 2,
   "metadata": {
    "collapsed": false
   },
   "outputs": [],
   "source": [
    "clean_dev = clean_data(snli.dev_data)\n",
    "clean_train = clean_data(snli.train_data)\n",
    "clean_test = clean_data(snli.test_data)"
   ]
  },
  {
   "cell_type": "code",
   "execution_count": 3,
   "metadata": {
    "collapsed": false
   },
   "outputs": [
    {
     "name": "stdout",
     "output_type": "stream",
     "text": [
      "4955\n",
      "4839\n",
      "306651\n"
     ]
    }
   ],
   "source": [
    "print(len(clean_dev))\n",
    "print(len(clean_test))\n",
    "print(len(clean_train))"
   ]
  },
  {
   "cell_type": "markdown",
   "metadata": {},
   "source": [
    "Next, we'll build a vocab from the set of cleaned sentence pairs. "
   ]
  },
  {
   "cell_type": "code",
   "execution_count": 4,
   "metadata": {
    "collapsed": false
   },
   "outputs": [],
   "source": [
    "def build_vocab(data):\n",
    "    vocab = set()\n",
    "    for item in data:\n",
    "        s1 = item.sentence1\n",
    "        s2 = item.sentence2\n",
    "        \n",
    "        t1 = DependencyNetwork.parser(s1)\n",
    "        t2 = DependencyNetwork.parser(s2)\n",
    "        \n",
    "        for t in t1:\n",
    "            if t.text not in vocab:\n",
    "                vocab.add(t.text)\n",
    "        for t in t2:\n",
    "            if t.text not in vocab:\n",
    "                vocab.add(t.text)\n",
    "\n",
    "    return sorted(list(vocab))\n",
    "\n",
    "data = clean_dev + clean_test + clean_train\n",
    "vocab = build_vocab(data)"
   ]
  },
  {
   "cell_type": "code",
   "execution_count": 5,
   "metadata": {
    "collapsed": false
   },
   "outputs": [
    {
     "name": "stdout",
     "output_type": "stream",
     "text": [
      "22555\n"
     ]
    }
   ],
   "source": [
    "print(len(vocab))"
   ]
  },
  {
   "cell_type": "markdown",
   "metadata": {},
   "source": [
    "Now we can check to see whether any words in our cleaned data are missing from our model of Word2Vec embeddings:"
   ]
  },
  {
   "cell_type": "code",
   "execution_count": 6,
   "metadata": {
    "collapsed": false
   },
   "outputs": [
    {
     "name": "stdout",
     "output_type": "stream",
     "text": [
      "106288\n",
      "1666\n",
      "1701\n"
     ]
    }
   ],
   "source": [
    "train_data = [d for d in clean_train if d.label == 'entailment'] # or d.label == 'neutral']\n",
    "test_data = [d for d in clean_test if d.label == 'entailment'] # or d.label == 'neutral']\n",
    "dev_data = [d for d in clean_dev if d.label == 'entailment'] # or d.label == 'neutral']\n",
    "\n",
    "print(len(train_data))\n",
    "print(len(test_data))\n",
    "print(len(dev_data))"
   ]
  },
  {
   "cell_type": "code",
   "execution_count": 7,
   "metadata": {
    "collapsed": false
   },
   "outputs": [
    {
     "name": "stdout",
     "output_type": "stream",
     "text": [
      "On iteration  0\n",
      "On iteration  1\n",
      "On iteration  2\n",
      "On iteration  3\n",
      "On iteration  4\n",
      "On iteration  5\n",
      "On iteration  6\n",
      "On iteration  7\n",
      "On iteration  8\n",
      "On iteration  9\n",
      "On iteration  10\n",
      "On iteration  11\n",
      "On iteration  12\n",
      "On iteration  13\n",
      "On iteration  14\n",
      "On iteration  15\n",
      "On iteration  16\n",
      "On iteration  17\n",
      "On iteration  18\n",
      "On iteration  19\n",
      "On iteration  20\n",
      "On iteration  21\n",
      "On iteration  22\n",
      "On iteration  23\n",
      "On iteration  24\n",
      "On iteration  25\n",
      "On iteration  26\n",
      "On iteration  27\n",
      "On iteration  28\n",
      "On iteration  29\n",
      "On iteration  30\n",
      "On iteration  31\n",
      "On iteration  32\n",
      "On iteration  33\n",
      "On iteration  34\n",
      "On iteration  35\n",
      "On iteration  36\n",
      "On iteration  37\n",
      "On iteration  38\n",
      "On iteration  39\n",
      "On iteration  40\n",
      "On iteration  41\n",
      "On iteration  42\n",
      "On iteration  43\n",
      "On iteration  44\n",
      "On iteration  45\n",
      "On iteration  46\n",
      "On iteration  47\n",
      "On iteration  48\n",
      "On iteration  49\n"
     ]
    }
   ],
   "source": [
    "dim = 300\n",
    "iters = 50\n",
    "rate = 0.0006\n",
    "batchsize = 10000\n",
    "\n",
    "vectors = 'w2v_embeddings.pickle'\n",
    "\n",
    "with open('w2v_dep_vocabs.pickle', 'rb') as pfile:\n",
    "    subvocabs = pickle.load(pfile)\n",
    "\n",
    "encoder = DependencyNetwork(dim=dim, vocab=vocab, pretrained=vectors)\n",
    "decoder = EmbeddingGenerator(dim=dim, subvocabs=subvocabs, vectors=vectors)\n",
    "\n",
    "for _ in range(iters):\n",
    "    print('On iteration ', _)\n",
    "    if _ == 45:\n",
    "        rate = rate / 2.0\n",
    "    if _ == 50:\n",
    "        rate = rate / 2.0\n",
    "    \n",
    "    batch = random.sample(train_data, batchsize)te\n",
    "    for sample in batch:\n",
    "        s1 = sample.sentence1\n",
    "        s2 = sample.sentence2\n",
    "\n",
    "        encoder.forward_pass(s1)        \n",
    "        decoder.forward_pass(s2, encoder.get_root_embedding())\n",
    "        decoder.backward_pass(rate=rate)\n",
    "        encoder.backward_pass(decoder.pass_grad, rate=rate)"
   ]
  },
  {
   "cell_type": "markdown",
   "metadata": {},
   "source": [
    "## Simple Entailment Generation Examples\n",
    "\n",
    "This small amount of data probably isn't enough to generalize outside of the training set, so we'll first check how well the learned decoder is able to generate the entailments it has been trained on."
   ]
  },
  {
   "cell_type": "code",
   "execution_count": 102,
   "metadata": {
    "collapsed": false
   },
   "outputs": [
    {
     "name": "stdout",
     "output_type": "stream",
     "text": [
      "Sentence:  A surfer is performing a jumping stunt in the ocean.\n",
      "Predicted Entailment:  a is in the ocean .\n",
      "Actual Entailment:  a person in the water .\n",
      "Random Tree Entailment:  a surfer and a surfboard is outside .\n",
      "\n",
      "Sentence:  The football player prepares to kick the ball.\n",
      "Predicted Entailment:  the player is playing the ball .\n",
      "Actual Entailment:  a person is playing a sport .\n",
      "Random Tree Entailment:  there playing a player playing outside to the football .\n",
      "\n",
      "Sentence:  The guitarist performs a rocking solo.\n",
      "Predicted Entailment:  the guitarist is performs\n",
      "Actual Entailment:  the musician is performing\n",
      "Random Tree Entailment:  two guitarist performs loud to perform her musician perform .\n",
      "\n",
      "Sentence:  A little boy playing outside on the cement.\n",
      "Predicted Entailment:  a boy playing on cement .\n",
      "Actual Entailment:  a boy is outside playing .\n",
      "Random Tree Entailment:  a little boy is playing on the cement cement .\n",
      "\n",
      "Sentence:  An elderly woman wearing a skirt is picking out vegetables at a local market.\n",
      "Predicted Entailment:  an woman is at a vegetables market .\n",
      "Actual Entailment:  this woman is on a shopping trip .\n",
      "Random Tree Entailment:  woman is vegetables at the vegetables .\n",
      "\n",
      "Sentence:  Several street vehicles pass by a traditional architecture style of Thailand.\n",
      "Predicted Entailment:  cars are are in a street in street .\n",
      "Actual Entailment:  vehicles are going down a street in thailand .\n",
      "Random Tree Entailment:  the many cars are in a street .\n",
      "\n",
      "Sentence:  Three adults are working in a garden near a fence in the yard.\n",
      "Predicted Entailment:  the three people are outside near a yard .\n",
      "Actual Entailment:  the three adults are outside in the garden .\n",
      "Random Tree Entailment:  the people are near a yard .\n",
      "\n",
      "Sentence:  Female gymnasts warm up before a competition.\n",
      "Predicted Entailment:  gymnasts are ready for a competition .\n",
      "Actual Entailment:  gymnasts get ready for a competition .\n",
      "Random Tree Entailment:  the gymnasts are are a competition .\n",
      "\n",
      "Sentence:  A man with ski poles and a large camping backpack treks through the snow.\n",
      "Predicted Entailment:  a man is is in a snow in snowy snow .\n",
      "Actual Entailment:  a man is trekking through the snow with ski poles .\n",
      "Random Tree Entailment:  a man is is a backpack .\n",
      "\n",
      "Sentence:  A man in a white shirt hiking over rocks and water.\n",
      "Predicted Entailment:  a man is is .\n",
      "Actual Entailment:  a man is hiking .\n",
      "Random Tree Entailment:  a man in a shirt is .\n",
      "\n"
     ]
    }
   ],
   "source": [
    "sample_trees = [d for d in test_data if 5 < len(d.sentence2.split()) < 10]\n",
    "batch = random.sample(test_data, 10)\n",
    "\n",
    "for sample in batch:\n",
    "    s1 = sample.sentence1\n",
    "    s2 = sample.sentence2\n",
    "    randsen = random.choice(sample_trees)\n",
    "\n",
    "    encoder.forward_pass(s1)\n",
    "    decoder.forward_pass(s2, encoder.get_root_embedding())\n",
    "\n",
    "    predicted = [node.pword for node in decoder.tree]\n",
    "    true = [node.lower_ for node in decoder.tree]\n",
    "\n",
    "    print('Sentence: ', s1)\n",
    "    print('Predicted Entailment: ', ' '.join(predicted))\n",
    "    print('Actual Entailment: ', ' '.join(true))\n",
    "    \n",
    "    decoder.forward_pass(randsen.sentence2, encoder.get_root_embedding())\n",
    "    alternate = [node.pword for node in decoder.tree]\n",
    "    print('Random Tree Entailment: ', ' '.join(alternate))\n",
    "    print('')"
   ]
  },
  {
   "cell_type": "markdown",
   "metadata": {},
   "source": [
    "We can also generate entailments using randomly chosen trees for the decoding network structure. This doesn't work very well."
   ]
  },
  {
   "cell_type": "code",
   "execution_count": 23,
   "metadata": {
    "collapsed": false
   },
   "outputs": [
    {
     "name": "stdout",
     "output_type": "stream",
     "text": [
      "Sentence:  Two women stand in a kitchen and wipe down trays\n",
      "Predicted Entailment:  two women are in the kitchen .\n",
      "Actual Entailment:  two women stand in a kitchen .\n",
      "Random Tree Entailment:  there are a women in the kitchen .\n",
      "\n",
      "Sentence:  A wet child stands in chest deep ocean water.\n",
      "Predicted Entailment:  a child is is in the water .\n",
      "Actual Entailment:  the child s playing on the beach .\n",
      "Random Tree Entailment:  a is standing in the water\n",
      "\n",
      "Sentence:  Two little boys are standing in a kitchen.\n",
      "Predicted Entailment:  the boys are not happy .\n",
      "Actual Entailment:  the kitchen is not empty .\n",
      "Random Tree Entailment:  the boys are are up a food .\n",
      "\n",
      "Sentence:  A couple sits in the grass.\n",
      "Predicted Entailment:  couple are outside .\n",
      "Actual Entailment:  people are outside .\n",
      "Random Tree Entailment:  a couple is are outside to their grass .\n",
      "\n",
      "Sentence:  3 people on plain boats smiling towards the camera.\n",
      "Predicted Entailment:  a are camera on the boat\n",
      "Actual Entailment:  3 smiling people on a boat\n",
      "Random Tree Entailment:  a are smiling in the boat .\n",
      "\n",
      "Sentence:  3 Olympic winners posing for a photo on an advertised background\n",
      "Predicted Entailment:  a people are posing their picture taken .\n",
      "Actual Entailment:  some people are having their photo taken .\n",
      "Random Tree Entailment:  a people posing for photo of a photo .\n",
      "\n",
      "Sentence:  The large white bird grazes the water.\n",
      "Predicted Entailment:  the bird is is the water\n",
      "Actual Entailment:  the bird is touching the water\n",
      "Random Tree Entailment:  one bird is is water in the water .\n",
      "\n",
      "Sentence:  A black dog with a blue collar is jumping into the water.\n",
      "Predicted Entailment:  a dog is is to get wet .\n",
      "Actual Entailment:  a dog is going to get wet .\n",
      "Random Tree Entailment:  a dog is is a black water .\n",
      "\n",
      "Sentence:  The dogs are playing on the bed.\n",
      "Predicted Entailment:  dogs playing together together .\n",
      "Actual Entailment:  dogs playing together inside .\n",
      "Random Tree Entailment:  the dog dogs playing a fun .\n",
      "\n",
      "Sentence:  These girls are having a great time looking for seashells.\n",
      "Predicted Entailment:  the girls looking together .\n",
      "Actual Entailment:  the girls are outside .\n",
      "Random Tree Entailment:  two girls are looking together at the seashells .\n",
      "\n",
      "Sentence:  Swimming in the wide blue ocean.\n",
      "Predicted Entailment:  person is swimming wet and swimming in ocean .\n",
      "Actual Entailment:  some is staying afloat and moving in water .\n",
      "Random Tree Entailment:  a swimming swimming outside in the blue ocean .\n",
      "\n",
      "Sentence:  A girl bounces in a bounce house.\n",
      "Predicted Entailment:  a girl is bounces indoors .\n",
      "Actual Entailment:  a girl is bouncing around .\n",
      "Random Tree Entailment:  a girl bounces indoors in a bounce house .\n",
      "\n",
      "Sentence:  People shopping for vegetables at an outdoor market.\n",
      "Predicted Entailment:  shopping shopping at market and shopping at the market .\n",
      "Actual Entailment:  people shopping for veggies and fruit at a market .\n",
      "Random Tree Entailment:  a shopping outside shopping at for market .\n",
      "\n",
      "Sentence:  a brown and black attack dog being trained by a man holding a stick\n",
      "Predicted Entailment:  a dog is being are by a dog .\n",
      "Actual Entailment:  a dog is being trained by a man .\n",
      "Random Tree Entailment:  a dog is are with a dog dog .\n",
      "\n",
      "Sentence:  The bears are facing each other with their mouths wide open.\n",
      "Predicted Entailment:  two bears are are in each other in other open .\n",
      "Actual Entailment:  two bears are looking at each other with mouths open .\n",
      "Random Tree Entailment:  two bears are are in open .\n",
      "\n",
      "Sentence:  A rescue worker searches with a flashlight under a slab in a ruined building.\n",
      "Predicted Entailment:  a worker is a heavy hole .\n",
      "Actual Entailment:  a worker searches a ruined building .\n",
      "Random Tree Entailment:  there is a person under a building .\n",
      "\n",
      "Sentence:  A big dog and a smaller dog fight over a piece of fabric.\n",
      "Predicted Entailment:  two is playing with a piece of fabric\n",
      "Actual Entailment:  two dogs fighting over a piece of fabric\n",
      "Random Tree Entailment:  a dog dog is over with a piece\n",
      "\n",
      "Sentence:  Band plays in tight quarters.\n",
      "Predicted Entailment:  a band is plays .\n",
      "Actual Entailment:  the band is playing .\n",
      "Random Tree Entailment:  a plays in tight tight tight .\n",
      "\n",
      "Sentence:  Numerous customers browsing for produce in a market.\n",
      "Predicted Entailment:  customers are browsing .\n",
      "Actual Entailment:  people are shopping .\n",
      "Random Tree Entailment:  the customers in market browsing produce .\n",
      "\n",
      "Sentence:  A man in a yellow shirt and helmet mountain biking down a dusty path.\n",
      "Predicted Entailment:  a man is is down a path .\n",
      "Actual Entailment:  a man is biking down a path .\n",
      "Random Tree Entailment:  there is a outdoors on shirt .\n",
      "\n"
     ]
    }
   ],
   "source": [
    "batch = random.sample(test_data, 20)\n",
    "\n",
    "for sample in batch:\n",
    "    s1 = sample.sentence1\n",
    "    s2 = sample.sentence2\n",
    "    randsen = random.choice(sample_trees)\n",
    "\n",
    "    encoder.forward_pass(s1)\n",
    "    decoder.forward_pass(s2, encoder.get_root_embedding())\n",
    "\n",
    "    predicted = [node.pword for node in decoder.tree]\n",
    "    true = [node.lower_ for node in decoder.tree]\n",
    "    \n",
    "    print('Sentence: ', s1)\n",
    "    print('Predicted Entailment: ', ' '.join(predicted))\n",
    "    print('Actual Entailment: ', ' '.join(true))\n",
    "\n",
    "    decoder.forward_pass(randsen.sentence2, encoder.get_root_embedding())\n",
    "    alternate = [node.pword for node in decoder.tree]\n",
    "    print('Random Tree Entailment: ', ' '.join(alternate))\n",
    "    print('')"
   ]
  },
  {
   "cell_type": "markdown",
   "metadata": {},
   "source": [
    "## Generating Entailment Chains (i.e. Inferential Roles)\n",
    "\n",
    "We can also generate entailment chains by re-encoding a generated sentence, and then generating new sentence from the subsequent encoding. This is kind of neat because it allows us to distill what the model has learned in a network of inferential relationships between sentences. Philosophers sometimes argue that the meaning of sentences is determined by it's role or location in such a network."
   ]
  },
  {
   "cell_type": "code",
   "execution_count": 10,
   "metadata": {
    "collapsed": false
   },
   "outputs": [
    {
     "name": "stdout",
     "output_type": "stream",
     "text": [
      "Sentence:  A man curls up in a blanket on the street.\n",
      "Predicted Entailment:  a man is in the street .\n",
      "Next Prediction:  a man is outside .\n",
      "\n",
      "Sentence:  A group of Asian men pose around a large table after enjoying a meal together.\n",
      "Predicted Entailment:  a group eating at a table\n",
      "Next Prediction:  the group eating a food .\n",
      "\n",
      "Sentence:  Two police officers are sitting on motorcycles in the road.\n",
      "Predicted Entailment:  two officers are on their road .\n",
      "Next Prediction:  the officers are same road .\n",
      "\n",
      "Sentence:  Five people are playing in a gymnasium.\n",
      "Predicted Entailment:  the people are are indoors .\n",
      "Next Prediction:  the people are indoors .\n",
      "\n",
      "Sentence:  A woman, whose face can only be seen in a mirror, is applying eyeliner in a dimly lit room.\n",
      "Predicted Entailment:  a woman is makeup .\n",
      "Next Prediction:  a female woman woman physical makeup .\n",
      "\n"
     ]
    }
   ],
   "source": [
    "s1 = 'A man curls up in a blanket on the street.'\n",
    "s2 = 'A dog chases in a field.'\n",
    "s3 = 'A frog is cold.'\n",
    "\n",
    "def predict(encoder, decoder, s1, s2, s3):\n",
    "    encoder.forward_pass(s1)\n",
    "    decoder.forward_pass(s2, encoder.get_root_embedding())\n",
    "\n",
    "    true = [node.lower_ for node in decoder.tree]\n",
    "    predicted = [node.pword for node in decoder.tree]\n",
    "\n",
    "    print('Sentence: ', s1)\n",
    "    print('Predicted Entailment: ', ' '.join(predicted))\n",
    "\n",
    "    encoder.forward_pass(' '.join(predicted))\n",
    "    decoder.forward_pass(s3, encoder.get_root_embedding())\n",
    "\n",
    "    predicted = [node.pword for node in decoder.tree]\n",
    "    print('Next Prediction: ', ' '.join(predicted))\n",
    "    print('')\n",
    "\n",
    "predict(encoder, decoder, s1, s2, s3)\n",
    "    \n",
    "s1 = 'A group of Asian men pose around a large table after enjoying a meal together.'\n",
    "s2 = 'Some people pose for a picture'\n",
    "s3 = 'The group takes a picture.'\n",
    "\n",
    "predict(encoder, decoder, s1, s2, s3)\n",
    "\n",
    "s1 = 'Two police officers are sitting on motorcycles in the road.'\n",
    "s2 = 'Two policemen sit on their bikes.'\n",
    "s3 = 'The men have big guns.'\n",
    "\n",
    "predict(encoder, decoder, s1, s2, s3)\n",
    "\n",
    "s1 = 'Five people are playing in a gymnasium.'\n",
    "s2 = 'Some people are competing indoors.'\n",
    "s3 = 'Some people are inside.'\n",
    "\n",
    "predict(encoder, decoder, s1, s2, s3)\n",
    "\n",
    "s1 = 'A woman, whose face can only be seen in a mirror, is applying eyeliner in a dimly lit room.'\n",
    "s2 = 'The woman applies eyeliner.'\n",
    "s3 = 'The red woman applies green eyeliner.'\n",
    "\n",
    "predict(encoder, decoder, s1, s2, s3)"
   ]
  },
  {
   "cell_type": "markdown",
   "metadata": {},
   "source": [
    "## Substitional Analysis\n",
    "\n",
    "Finally, it is also possible to examine the effect a given word or phrase has on entailment generation via substitutions. Essentially, this involves looking at the difference made to the most likely entailment when a given word or phrase in the input sentence is replaced with another word or phrase."
   ]
  },
  {
   "cell_type": "code",
   "execution_count": 426,
   "metadata": {
    "collapsed": false
   },
   "outputs": [
    {
     "name": "stdout",
     "output_type": "stream",
     "text": [
      "Sentence:  A boy in a beige shirt is sleeping in a car.\n",
      "Predicted Entailment:  a boy is in his car\n",
      "\n",
      "Sentence:  A girl in a beige shirt is sleeping in a car.\n",
      "Predicted Entailment:  a girl is in her car\n",
      "\n",
      "Sentence:  A man in a beige shirt is sleeping in a car.\n",
      "Predicted Entailment:  a man sleeping in his car\n",
      "\n",
      "Sentence:  A woman in a beige shirt is sleeping in a car.\n",
      "Predicted Entailment:  a woman is in her car\n",
      "\n",
      "Sentence:  A boy in a beige shirt is sleeping in a car.\n",
      "Predicted Entailment:  a boy is asleep\n",
      "\n",
      "Sentence:  A woman in a beige shirt is sleeping in a car.\n",
      "Predicted Entailment:  a woman is asleep\n",
      "\n",
      "Sentence:  A man in a beige shirt is driving in a car.\n",
      "Predicted Entailment:  a man is driving a car\n",
      "\n",
      "Sentence:  A person in a beige shirt is selling her car.\n",
      "Predicted Entailment:  a person is selling a car\n",
      "\n",
      "Sentence:  A boy in a red shirt is waiting in a store.\n",
      "Predicted Entailment:  a boy wearing a shirt is indoors\n",
      "\n",
      "Sentence:  Some men in red shirts are waiting in a store.\n",
      "Predicted Entailment:  the men are in a store\n",
      "\n",
      "Sentence:  Many women in red shirts are waiting in a store.\n",
      "Predicted Entailment:  the women are in a store\n",
      "\n",
      "Sentence:  A boy and a girl are waiting in a store.\n",
      "Predicted Entailment:  two kids are indoors\n",
      "\n",
      "Sentence:  A boy and a girl are waiting in a playground.\n",
      "Predicted Entailment:  two kids are outside\n",
      "\n",
      "Sentence:  A boy in a red shirt is sleeping in a car.\n",
      "Predicted Entailment:  a boy is not outside\n",
      "\n",
      "Sentence:  A boy in a red shirt is waiting in a store.\n",
      "Predicted Entailment:  a boy is not indoors\n",
      "\n"
     ]
    }
   ],
   "source": [
    "s2 = 'the dog is on her phone'\n",
    "s3 = 'the dog is outside'\n",
    "s4 = 'the dog is selling the bone'\n",
    "s5 = 'a dog wearing some clothes is indoors'\n",
    "s6 = 'a dog are inside a car'\n",
    "s7 = 'the boy is red'\n",
    "s8 = 'three people are indoors'\n",
    "s9 = 'a boy is not indoors'\n",
    "\n",
    "def sub_predict(encoder, decoder, s1, s2):\n",
    "    \n",
    "    encoder.forward_pass(s1)\n",
    "    decoder.forward_pass(s2, encoder.get_root_embedding())\n",
    "\n",
    "    true = [node.lower_ for node in decoder.tree]\n",
    "    predicted = [node.pword for node in decoder.tree]\n",
    "\n",
    "    print('Sentence: ', s1)\n",
    "    print('Predicted Entailment: ', ' '.join(predicted))\n",
    "    print('')    \n",
    "\n",
    "    \n",
    "s1 = 'A boy in a beige shirt is sleeping in a car.'\n",
    "sub_predict(encoder, decoder, s1, s2)\n",
    "\n",
    "s1 = 'A girl in a beige shirt is sleeping in a car.'\n",
    "sub_predict(encoder, decoder, s1, s2)\n",
    "\n",
    "s1 = 'A man in a beige shirt is sleeping in a car.'\n",
    "sub_predict(encoder, decoder, s1, s2)\n",
    "\n",
    "s1 = 'A woman in a beige shirt is sleeping in a car.'\n",
    "sub_predict(encoder, decoder, s1, s2)\n",
    "\n",
    "s1 = 'A boy in a beige shirt is sleeping in a car.'\n",
    "sub_predict(encoder, decoder, s1, s3)\n",
    "\n",
    "s1 = 'A woman in a beige shirt is sleeping in a car.'\n",
    "sub_predict(encoder, decoder, s1, s3)\n",
    "\n",
    "s1 = 'A man in a beige shirt is driving in a car.'\n",
    "sub_predict(encoder, decoder, s1, s4)\n",
    "\n",
    "s1 = 'A person in a beige shirt is selling her car.'\n",
    "sub_predict(encoder, decoder, s1, s4)\n",
    "\n",
    "s1 = 'A boy in a red shirt is waiting in a store.'\n",
    "sub_predict(encoder, decoder, s1, s5)\n",
    "\n",
    "s1 = 'Some men in red shirts are waiting in a store.'\n",
    "sub_predict(encoder, decoder, s1, s6)\n",
    "\n",
    "s1 = 'Many women in red shirts are waiting in a store.'\n",
    "sub_predict(encoder, decoder, s1, s6)\n",
    "\n",
    "s1 = 'A boy and a girl are waiting in a store.'\n",
    "sub_predict(encoder, decoder, s1, s8)\n",
    "\n",
    "s1 = 'A boy and a girl are waiting in a playground.'\n",
    "sub_predict(encoder, decoder, s1, s8)\n",
    "\n",
    "s1 = 'A boy in a red shirt is sleeping in a car.'\n",
    "sub_predict(encoder, decoder, s1, s9)\n",
    "\n",
    "s1 = 'A boy in a red shirt is waiting in a store.'\n",
    "sub_predict(encoder, decoder, s1, s9)"
   ]
  },
  {
   "cell_type": "code",
   "execution_count": 198,
   "metadata": {
    "collapsed": false
   },
   "outputs": [
    {
     "name": "stdout",
     "output_type": "stream",
     "text": [
      "Sentence:  A fisherman using a cellphone on a boat.\n",
      "Predicted Entailment:  a man is on a boat\n",
      "\n",
      "Sentence:  A Man is eating food next to a child on a bench.\n",
      "Predicted Entailment:  a man is on a bench\n",
      "\n",
      "Sentence:  A shirtless man skateboards on a ledge.\n",
      "Predicted Entailment:  a man is on a skateboard\n",
      "\n",
      "Sentence:  A man wearing a hat and boots is digging for something in the snow.\n",
      "Predicted Entailment:  a man is in the snow\n",
      "\n",
      "Sentence:  A man is on a boat.\n",
      "Predicted Entailment:  a man is outside\n",
      "\n",
      "Sentence:  A man is on a bench.\n",
      "Predicted Entailment:  a man is outside\n",
      "\n",
      "Sentence:  A man is on a skateboard.\n",
      "Predicted Entailment:  a man is outside\n",
      "\n",
      "Sentence:  A man is in the snow.\n",
      "Predicted Entailment:  a man is outside\n",
      "\n"
     ]
    }
   ],
   "source": [
    "s1 = 'A fisherman using a cellphone on a boat.'\n",
    "s2 = 'A man is on the street'\n",
    "sub_predict(encoder, decoder, s1, s2)\n",
    "\n",
    "s1 = 'A Man is eating food next to a child on a bench.'\n",
    "s2 = 'A man is on the street'\n",
    "sub_predict(encoder, decoder, s1, s2)\n",
    "\n",
    "s1 = 'A shirtless man skateboards on a ledge.'\n",
    "s2 = 'A man is on the street'\n",
    "sub_predict(encoder, decoder, s1, s2)\n",
    "\n",
    "s1 = 'A man wearing a hat and boots is digging for something in the snow.'\n",
    "s2 = 'A man is on the street'\n",
    "sub_predict(encoder, decoder, s1, s2)\n",
    "\n",
    "s1 = 'A man is on a boat.'\n",
    "s2 = 'A man is outside'\n",
    "sub_predict(encoder, decoder, s1, s2)\n",
    "\n",
    "s1 = 'A man is on a bench.'\n",
    "s2 = 'A man is outside'\n",
    "sub_predict(encoder, decoder, s1, s2)\n",
    "\n",
    "s1 = 'A man is on a skateboard.'\n",
    "s2 = 'A man is outside'\n",
    "sub_predict(encoder, decoder, s1, s2)\n",
    "\n",
    "s1 = 'A man is in the snow.'\n",
    "s2 = 'A man is outside'\n",
    "sub_predict(encoder, decoder, s1, s2)"
   ]
  },
  {
   "cell_type": "code",
   "execution_count": 18,
   "metadata": {
    "collapsed": false
   },
   "outputs": [
    {
     "name": "stdout",
     "output_type": "stream",
     "text": [
      "0.6669988931826031\n"
     ]
    }
   ],
   "source": [
    "total = 0 \n",
    "correct = 0\n",
    "\n",
    "for item in train_data:\n",
    "    encoder.forward_pass(item.sentence1)\n",
    "    decoder.forward_pass(item.sentence2, encoder.get_root_embedding())\n",
    "    \n",
    "    for node in decoder.tree:\n",
    "        total += 1\n",
    "        if node.pword.lower() == node.lower_:\n",
    "            correct += 1\n",
    "            \n",
    "accuracy = float(correct / total)\n",
    "print(accuracy)"
   ]
  },
  {
   "cell_type": "code",
   "execution_count": 19,
   "metadata": {
    "collapsed": false
   },
   "outputs": [
    {
     "name": "stdout",
     "output_type": "stream",
     "text": [
      "0.6176445248556905\n"
     ]
    }
   ],
   "source": [
    "total = 0 \n",
    "correct = 0\n",
    "\n",
    "for item in test_data:\n",
    "    encoder.forward_pass(item.sentence1)\n",
    "    decoder.forward_pass(item.sentence2, encoder.get_root_embedding())\n",
    "    \n",
    "    for node in decoder.tree:\n",
    "        total += 1\n",
    "        if node.pword.lower() == node.lower_:\n",
    "            correct += 1\n",
    "            \n",
    "accuracy = float(correct / total)\n",
    "print(accuracy)"
   ]
  }
 ],
 "metadata": {
  "anaconda-cloud": {},
  "kernelspec": {
   "display_name": "Python 3",
   "language": "python",
   "name": "python3"
  },
  "language_info": {
   "codemirror_mode": {
    "name": "ipython",
    "version": 3
   },
   "file_extension": ".py",
   "mimetype": "text/x-python",
   "name": "python",
   "nbconvert_exporter": "python",
   "pygments_lexer": "ipython3",
   "version": "3.5.2"
  }
 },
 "nbformat": 4,
 "nbformat_minor": 0
}
